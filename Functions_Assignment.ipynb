{
  "nbformat": 4,
  "nbformat_minor": 0,
  "metadata": {
    "colab": {
      "provenance": []
    },
    "kernelspec": {
      "name": "python3",
      "display_name": "Python 3"
    },
    "language_info": {
      "name": "python"
    }
  },
  "cells": [
    {
      "cell_type": "code",
      "execution_count": null,
      "metadata": {
        "id": "Nb3Q3Asbr32S"
      },
      "outputs": [],
      "source": []
    },
    {
      "cell_type": "markdown",
      "source": [
        "#Functions Assignment"
      ],
      "metadata": {
        "id": "-G990Xc7svRg"
      }
    },
    {
      "cell_type": "markdown",
      "source": [
        "### #Q1. What is the difference between a function and a method in Python?\n",
        "   - Both functions and methods are callable objects, but they are used in\n",
        "     different contexts and have some key differences.\n",
        "\n",
        "    Methods are functions that belong to classes and operate on objects created from those classes, while regular functions are independent blocks of code.\n",
        "\n",
        "\n",
        "\n"
      ],
      "metadata": {
        "id": "-SVfXQmYs9SR"
      }
    },
    {
      "cell_type": "code",
      "source": [
        "def add(a, b):\n",
        "    return a + b\n",
        "\n",
        "result = add(3, 5)\n",
        "\n",
        "class Calculator:\n",
        "    def __init__(self, value):\n",
        "        self.value = value\n",
        "\n",
        "    def add(self, other_value):\n",
        "        self.value += other_value\n",
        "        return self.value\n",
        "\n",
        "calc = Calculator(10)\n",
        "result = calc.add(5)\n"
      ],
      "metadata": {
        "id": "ZZQ4RpCwv92V"
      },
      "execution_count": 14,
      "outputs": []
    },
    {
      "cell_type": "markdown",
      "source": [
        "### #Q2.Explain the concept of function arguments and parameters in Python?\n",
        "  - In Python, function arguments and parameters are essential concepts that\n",
        "    define how functions interact with input data.\n",
        "\n",
        "    Parameters are the names used in the function definition to refer to the values that will be passed into the function when it is called. They act as placeholders for the data.\n",
        "\n",
        "    Arguments are the actual values or data you provide to a function when you call it. These values are assigned to the corresponding parameters in the function.\n",
        "\n",
        "\n",
        "\n"
      ],
      "metadata": {
        "id": "IO2cql3kwwX7"
      }
    },
    {
      "cell_type": "code",
      "source": [
        "#parameters\n",
        "def greet(name, age):\n",
        "    print(f\"Hello {name}, you are {age} years old.\")\n",
        "\n",
        "#arguments\n",
        "greet(\"Alice\", 30)\n"
      ],
      "metadata": {
        "colab": {
          "base_uri": "https://localhost:8080/"
        },
        "id": "tJGLaRbAyRnG",
        "outputId": "26bcba31-e950-4257-dc78-c0ff79942fe4"
      },
      "execution_count": 12,
      "outputs": [
        {
          "output_type": "stream",
          "name": "stdout",
          "text": [
            "Hello Alice, you are 30 years old.\n"
          ]
        }
      ]
    },
    {
      "cell_type": "markdown",
      "source": [
        "#Q3.What are the different ways to define and call a function in Python?\n",
        "  - The most basic way to define a function is with the def keyword followed by the function name, parameters (if any), and a block of code."
      ],
      "metadata": {
        "id": "EmhYubdZylie"
      }
    },
    {
      "cell_type": "code",
      "source": [
        "def greet(name):\n",
        "    print(f\"Hello, {name}!\")\n",
        "greet(\"Bakuli\")\n"
      ],
      "metadata": {
        "colab": {
          "base_uri": "https://localhost:8080/"
        },
        "id": "TTisR-On2v4j",
        "outputId": "a16469d4-a1d0-49f2-ac57-287b696c2ed9"
      },
      "execution_count": 16,
      "outputs": [
        {
          "output_type": "stream",
          "name": "stdout",
          "text": [
            "Hello, Bakuli!\n"
          ]
        }
      ]
    },
    {
      "cell_type": "markdown",
      "source": [
        "### #Q4.What is the purpose of the `return` statement in a Python function?\n",
        "  - A return statement is used to end the execution of the function call and it “returns” the value of the expression following the return keyword to the caller. The statements after the return statements are not executed. If the return statement is without any expression, then the special value None is returned. A return statement is overall used to invoke a function so that the passed statements can be executed."
      ],
      "metadata": {
        "id": "Js-pZwUW22XD"
      }
    },
    {
      "cell_type": "code",
      "source": [
        "def add(a, b):\n",
        "\n",
        "    # returning sum of a and b\n",
        "    return a + b\n",
        "\n",
        "def is_true(a):\n",
        "\n",
        "    # returning boolean of a\n",
        "    return bool(a)\n",
        "\n",
        "# calling function\n",
        "res = add(7, 8)\n",
        "print(res)\n",
        "\n",
        "res = is_true(2<5)\n",
        "print(res)"
      ],
      "metadata": {
        "colab": {
          "base_uri": "https://localhost:8080/"
        },
        "id": "u1eYO_eL30B6",
        "outputId": "deb4c7a0-7827-4313-91d4-28eecde9c186"
      },
      "execution_count": 18,
      "outputs": [
        {
          "output_type": "stream",
          "name": "stdout",
          "text": [
            "15\n",
            "True\n"
          ]
        }
      ]
    },
    {
      "cell_type": "markdown",
      "source": [
        "### #Q5.What are iterators in Python and how do they differ from iterables?\n",
        "  - An Iterable is basically an object that any user can iterate over. An Iterator is also an object that helps a user in iterating over another object (that is iterable). We can generate an iterator when we pass the object to the iter() method."
      ],
      "metadata": {
        "id": "9zUqCfa735Ai"
      }
    },
    {
      "cell_type": "code",
      "source": [
        "# list of cities\n",
        "cities = [\"Kolkata\", \"Mumbai\", \"Geneva\"]\n",
        "\n",
        "# initialize the object\n",
        "iterator_obj = iter(cities)\n",
        "\n",
        "print(next(iterator_obj))\n",
        "print(next(iterator_obj))\n",
        "print(next(iterator_obj))\n"
      ],
      "metadata": {
        "colab": {
          "base_uri": "https://localhost:8080/"
        },
        "id": "dF-b3L5W6Iaz",
        "outputId": "a641d08c-9d51-48ac-d15a-69b2636c7564"
      },
      "execution_count": 22,
      "outputs": [
        {
          "output_type": "stream",
          "name": "stdout",
          "text": [
            "Kolkata\n",
            "Mumbai\n",
            "Geneva\n"
          ]
        }
      ]
    },
    {
      "cell_type": "markdown",
      "source": [],
      "metadata": {
        "id": "eWd9sPbT6b9U"
      }
    },
    {
      "cell_type": "markdown",
      "source": [
        "### #Q6. Explain the concept of generators in Python and how they are defined?\n",
        "  - Generators in Python are a special type of iterable, like lists or tuples, but instead of storing all elements in memory, they generate items on the fly, one at a time. This makes them highly memory-efficient, especially for large datasets or infinite sequences."
      ],
      "metadata": {
        "id": "W7__WQGS6fzM"
      }
    },
    {
      "cell_type": "code",
      "source": [
        "def fun(max):\n",
        "    cnt = 1\n",
        "    while cnt <= max:\n",
        "        yield cnt\n",
        "        cnt += 1\n",
        "\n",
        "ctr = fun(5)\n",
        "for n in ctr:\n",
        "    print(n)"
      ],
      "metadata": {
        "colab": {
          "base_uri": "https://localhost:8080/"
        },
        "id": "xehyoL7t8MMS",
        "outputId": "ec8422a9-53ed-4fe9-f08a-98980a112cda"
      },
      "execution_count": 23,
      "outputs": [
        {
          "output_type": "stream",
          "name": "stdout",
          "text": [
            "1\n",
            "2\n",
            "3\n",
            "4\n",
            "5\n"
          ]
        }
      ]
    },
    {
      "cell_type": "markdown",
      "source": [
        "### #Q7.What are the advantages of using generators over regular functions?\n",
        "   - Generators offer several advantages over regular functions, especially generators provide a space-efficient method for such data processing as only parts of the file are handled at one given point in time.\n",
        "\n"
      ],
      "metadata": {
        "id": "YL9cYKpo8pMM"
      }
    },
    {
      "cell_type": "code",
      "source": [
        "# Generator: Efficient for large sequences\n",
        "def large_numbers():\n",
        "    for i in range(10**6):\n",
        "        yield i\n",
        "\n",
        "# Regular function: Memory-intensive for large sequences\n",
        "def large_numbers_list():\n",
        "    return [i for i in range(10**6)]\n"
      ],
      "metadata": {
        "id": "jPSLziI0-ayX"
      },
      "execution_count": 24,
      "outputs": []
    },
    {
      "cell_type": "markdown",
      "source": [
        "### #Q8.What is a lambda function in Python and when is it typically used?\n",
        "  - A lambda function in Python is an anonymous function (a function without a name) that is defined using the lambda keyword. It is a concise way to create small, simple functions in a single line of code."
      ],
      "metadata": {
        "id": "5-EhY-hk-_bD"
      }
    },
    {
      "cell_type": "code",
      "source": [
        "lambda arguments: expression\n",
        "\n",
        "# Regular function\n",
        "def square(x):\n",
        "    return x ** 2\n",
        "\n",
        "# Equivalent lambda function\n",
        "square_lambda = lambda x: x ** 2\n",
        "\n",
        "print(square(4))\n",
        "print(square_lambda(4))\n"
      ],
      "metadata": {
        "colab": {
          "base_uri": "https://localhost:8080/"
        },
        "id": "UCUkLl8f_YaB",
        "outputId": "782b4883-1074-4672-ec9c-90444246151a"
      },
      "execution_count": 26,
      "outputs": [
        {
          "output_type": "stream",
          "name": "stdout",
          "text": [
            "16\n",
            "16\n"
          ]
        }
      ]
    },
    {
      "cell_type": "markdown",
      "source": [
        " #Q9. Explain the purpose and usage of the `map()` function in Python.\n",
        "   - The map() function is used to apply a given function to every item of an iterable, such as a list or tuple, and returns a map object (which is an iterator)."
      ],
      "metadata": {
        "id": "dWgjbz92_rUp"
      }
    },
    {
      "cell_type": "code",
      "source": [
        "s = ['1', '2', '3', '4']\n",
        "res = map(int, s)\n",
        "print(list(res))"
      ],
      "metadata": {
        "colab": {
          "base_uri": "https://localhost:8080/"
        },
        "id": "YxGawuLjAaSF",
        "outputId": "1b5ded08-a38e-4a86-a329-f209cf200e83"
      },
      "execution_count": 27,
      "outputs": [
        {
          "output_type": "stream",
          "name": "stdout",
          "text": [
            "[1, 2, 3, 4]\n"
          ]
        }
      ]
    },
    {
      "cell_type": "markdown",
      "source": [
        "#Q10. What is the difference between `map()`, `reduce()`, and `filter()` functions in Python?\n",
        "   - The map(), reduce(), and filter() functions in Python are used to process iterables and perform functional programming tasks.\n",
        "\n",
        "     Use map() when you want to transform each element of an iterable.\n",
        "\n",
        "     Use reduce() when you want to combine all elements of an iterable into a single value.\n",
        "     \n",
        "     Use filter() when you want to extract elements that satisfy a condition."
      ],
      "metadata": {
        "id": "FMGxZTGCAfRd"
      }
    },
    {
      "cell_type": "code",
      "source": [
        "#Use map()\n",
        "names = [\"subham\", \"rahul\", \"amit\"]\n",
        "uppercase_names = map(lambda name: name.upper(), names)\n",
        "print(list(uppercase_names))\n",
        "\n",
        "#Use reduce()\n",
        "\n",
        "numbers = [1, 2, 3, 4]\n",
        "total = reduce(lambda x, y: x + y, numbers)\n",
        "print(total)\n",
        "\n",
        " #Use filter()\n",
        "numbers = [-1, 0, 1, 2, -3, 4]\n",
        "positives = filter(lambda x: x > 0, numbers)\n",
        "print(list(positives))  # Output: [1, 2, 4]\n"
      ],
      "metadata": {
        "colab": {
          "base_uri": "https://localhost:8080/"
        },
        "id": "gz6rB7YaB-iE",
        "outputId": "78bb59e8-d3e6-425f-d06b-be7c654328a9"
      },
      "execution_count": 33,
      "outputs": [
        {
          "output_type": "stream",
          "name": "stdout",
          "text": [
            "['SUBHAM', 'RAHUL', 'AMIT']\n",
            "10\n",
            "[1, 2, 4]\n"
          ]
        }
      ]
    },
    {
      "cell_type": "markdown",
      "source": [
        "#Q11. Using pen & Paper write the internal mechanism for sum operation using  reduce function on this given list:[47,11,42,13];\n",
        "\n",
        "![Py_Function.jpg](data:image/jpeg;base64,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)"
      ],
      "metadata": {
        "id": "7KMwXO1XDlID"
      }
    },
    {
      "cell_type": "markdown",
      "source": [
        "#Practical Questions:"
      ],
      "metadata": {
        "id": "BeGJVerIGr5w"
      }
    },
    {
      "cell_type": "code",
      "source": [
        "# Q1. Write a Python function that takes a list of numbers as input and returns the sum of all even numbers in  the list\n",
        "\n",
        "def sum_of_even_numbers(numbers):\n",
        "    return sum(num for num in numbers if num % 2 == 0)\n",
        "\n",
        "# Example usage\n",
        "numbers = [1, 2, 3, 4, 5, 6]\n",
        "result = sum_of_even_numbers(numbers)\n",
        "print(result)"
      ],
      "metadata": {
        "colab": {
          "base_uri": "https://localhost:8080/"
        },
        "id": "jesMND42G20P",
        "outputId": "4625dbf7-cc4b-4f51-ef2b-bf399c63d58d"
      },
      "execution_count": 34,
      "outputs": [
        {
          "output_type": "stream",
          "name": "stdout",
          "text": [
            "12\n"
          ]
        }
      ]
    },
    {
      "cell_type": "code",
      "source": [
        "# Q2. Create a Python function that accepts a string and returns the reverse of that string.\n",
        "\n",
        "def reverse_string(s):\n",
        "    return s[::-1]\n",
        "\n",
        "# Example usage\n",
        "input_string = \"Hello, World!\"\n",
        "reversed_string = reverse_string(input_string)\n",
        "print(reversed_string)\n"
      ],
      "metadata": {
        "colab": {
          "base_uri": "https://localhost:8080/"
        },
        "id": "6VAaJQm1HYjt",
        "outputId": "412c71c0-f0a9-4d37-e4df-0cf190fa1039"
      },
      "execution_count": 35,
      "outputs": [
        {
          "output_type": "stream",
          "name": "stdout",
          "text": [
            "!dlroW ,olleH\n"
          ]
        }
      ]
    },
    {
      "cell_type": "code",
      "source": [
        "# Q3. Implement a Python function that takes a list of integers and returns a new list containing the squares of each number.\n",
        "\n",
        "def square_numbers(numbers):\n",
        "    return [num ** 2 for num in numbers]\n",
        "\n",
        "# Example usage\n",
        "input_list = [1, 2, 3, 4, 5]\n",
        "squared_list = square_numbers(input_list)\n",
        "print(squared_list)\n"
      ],
      "metadata": {
        "colab": {
          "base_uri": "https://localhost:8080/"
        },
        "id": "vhUFtFTxHslK",
        "outputId": "67227a11-e567-42a8-a025-fcc7caa6e77b"
      },
      "execution_count": 36,
      "outputs": [
        {
          "output_type": "stream",
          "name": "stdout",
          "text": [
            "[1, 4, 9, 16, 25]\n"
          ]
        }
      ]
    },
    {
      "cell_type": "code",
      "source": [
        "# Q4. Write a Python function that checks if a given number is prime or not from 1 to 200.\n",
        "\n",
        "def is_prime(num):\n",
        "    if num < 2:\n",
        "        return False\n",
        "    for i in range(2, int(num ** 0.5) + 1):\n",
        "        if num % i == 0:\n",
        "            return False\n",
        "    return True\n",
        "\n",
        "for number in range(1, 201):\n",
        "    if is_prime(number):\n",
        "        print(f\"{number} is prime.\")\n",
        "\n"
      ],
      "metadata": {
        "colab": {
          "base_uri": "https://localhost:8080/"
        },
        "id": "qih3s1X_IFzJ",
        "outputId": "a084134c-657e-4490-aded-ab4bc02ba3bf"
      },
      "execution_count": 39,
      "outputs": [
        {
          "output_type": "stream",
          "name": "stdout",
          "text": [
            "2 is prime.\n",
            "3 is prime.\n",
            "5 is prime.\n",
            "7 is prime.\n",
            "11 is prime.\n",
            "13 is prime.\n",
            "17 is prime.\n",
            "19 is prime.\n",
            "23 is prime.\n",
            "29 is prime.\n",
            "31 is prime.\n",
            "37 is prime.\n",
            "41 is prime.\n",
            "43 is prime.\n",
            "47 is prime.\n",
            "53 is prime.\n",
            "59 is prime.\n",
            "61 is prime.\n",
            "67 is prime.\n",
            "71 is prime.\n",
            "73 is prime.\n",
            "79 is prime.\n",
            "83 is prime.\n",
            "89 is prime.\n",
            "97 is prime.\n",
            "101 is prime.\n",
            "103 is prime.\n",
            "107 is prime.\n",
            "109 is prime.\n",
            "113 is prime.\n",
            "127 is prime.\n",
            "131 is prime.\n",
            "137 is prime.\n",
            "139 is prime.\n",
            "149 is prime.\n",
            "151 is prime.\n",
            "157 is prime.\n",
            "163 is prime.\n",
            "167 is prime.\n",
            "173 is prime.\n",
            "179 is prime.\n",
            "181 is prime.\n",
            "191 is prime.\n",
            "193 is prime.\n",
            "197 is prime.\n",
            "199 is prime.\n"
          ]
        }
      ]
    },
    {
      "cell_type": "code",
      "source": [
        "# Q5. Create an iterator class in Python that generates the Fibonacci sequence up to a specified number of terms.\n",
        "\n",
        "class FibonacciIterator:\n",
        "    def __init__(self, n):\n",
        "        self.n = n\n",
        "        self.current = 0\n",
        "        self.next_value = 1\n",
        "        self.count = 0\n",
        "\n",
        "    def __iter__(self):\n",
        "        return self\n",
        "\n",
        "    def __next__(self):\n",
        "        if self.count >= self.n:\n",
        "            raise StopIteration\n",
        "        if self.count == 0:\n",
        "            self.count += 1\n",
        "            return self.current\n",
        "        elif self.count == 1:\n",
        "            self.count += 1\n",
        "            return self.next_value\n",
        "        else:\n",
        "            fib = self.current + self.next_value\n",
        "            self.current = self.next_value\n",
        "            self.next_value = fib\n",
        "            self.count += 1\n",
        "            return fib\n",
        "\n",
        "# Example usage\n",
        "n_terms = 10\n",
        "fib = FibonacciIterator(n_terms)\n",
        "for num in fib:\n",
        "    print(num)\n"
      ],
      "metadata": {
        "colab": {
          "base_uri": "https://localhost:8080/"
        },
        "id": "E0tebE7VI2wn",
        "outputId": "6a642761-05e3-4d79-e0c0-64e79d4b13af"
      },
      "execution_count": 40,
      "outputs": [
        {
          "output_type": "stream",
          "name": "stdout",
          "text": [
            "0\n",
            "1\n",
            "1\n",
            "2\n",
            "3\n",
            "5\n",
            "8\n",
            "13\n",
            "21\n",
            "34\n"
          ]
        }
      ]
    },
    {
      "cell_type": "code",
      "source": [
        "# Q6. Write a generator function in Python that yields the powers of 2 up to a given exponent.\n",
        "\n",
        "def powers_of_two(exponent):\n",
        "    for i in range(exponent + 1):\n",
        "        yield 2 ** i\n",
        "\n",
        "exponent = 5\n",
        "for power in powers_of_two(exponent):\n",
        "    print(power)"
      ],
      "metadata": {
        "colab": {
          "base_uri": "https://localhost:8080/"
        },
        "id": "0Ur8OmqqJMnJ",
        "outputId": "208a221b-0502-42a1-bfde-74a750701f6c"
      },
      "execution_count": 42,
      "outputs": [
        {
          "output_type": "stream",
          "name": "stdout",
          "text": [
            "1\n",
            "2\n",
            "4\n",
            "8\n",
            "16\n",
            "32\n"
          ]
        }
      ]
    },
    {
      "cell_type": "code",
      "source": [
        "# Q7. Implement a generator function that reads a file line by line and yields each line as a string\n",
        "\n",
        "def read_file_line_by_line(file_path):\n",
        "    with open(file_path, 'r') as file:\n",
        "        for line in file:\n",
        "            yield line.strip()\n",
        "\n",
        "\n"
      ],
      "metadata": {
        "id": "ZuMznEAlJhnD"
      },
      "execution_count": 79,
      "outputs": []
    },
    {
      "cell_type": "code",
      "source": [
        "# Q8. Use a lambda function in Python to sort a list of tuples based on the second element of each tuple.\n",
        "\n",
        "# List of tuples\n",
        "tuples_list = [(1, 3), (4, 1), (2, 2), (3, 4)]\n",
        "\n",
        "sorted_list = sorted(tuples_list, key=lambda x: x[1])\n",
        "\n",
        "print(sorted_list)\n"
      ],
      "metadata": {
        "colab": {
          "base_uri": "https://localhost:8080/"
        },
        "id": "akG0RRZTVLND",
        "outputId": "f5126e8f-b540-4a70-965e-18ea358bbbf5"
      },
      "execution_count": 76,
      "outputs": [
        {
          "output_type": "stream",
          "name": "stdout",
          "text": [
            "[(4, 1), (2, 2), (1, 3), (3, 4)]\n"
          ]
        }
      ]
    },
    {
      "cell_type": "code",
      "source": [
        "# Q9. Write a Python program that uses `map()` to convert a list of temperatures from Celsius to Fahrenheit\n",
        "# List of temperatures in Celsius\n",
        "celsius_temps = [0, 20, 30, 40, 100]\n",
        "\n",
        "def celsius_to_fahrenheit(celsius):\n",
        "    return (celsius * 9/5) + 32\n",
        "\n",
        "fahrenheit_temps = list(map(celsius_to_fahrenheit, celsius_temps))\n",
        "\n",
        "print(fahrenheit_temps)\n"
      ],
      "metadata": {
        "colab": {
          "base_uri": "https://localhost:8080/"
        },
        "id": "BkhaqT-aVWIF",
        "outputId": "0f190f40-fa3c-4fdf-cbe2-bc66d3d277b9"
      },
      "execution_count": 77,
      "outputs": [
        {
          "output_type": "stream",
          "name": "stdout",
          "text": [
            "[32.0, 68.0, 86.0, 104.0, 212.0]\n"
          ]
        }
      ]
    },
    {
      "cell_type": "code",
      "source": [
        "# Q.10 0. Create a Python program that uses `filter()` to remove all the vowels from a given string.\n",
        "\n",
        "# Function to filter out vowels\n",
        "def remove_vowels(char):\n",
        "    vowels = 'aeiouAEIOU'\n",
        "    return char not in vowels\n",
        "\n",
        "input_string = \"Hello, World!\"\n",
        "\n",
        "result = ''.join(filter(remove_vowels, input_string))\n",
        "\n",
        "print(result)\n"
      ],
      "metadata": {
        "colab": {
          "base_uri": "https://localhost:8080/"
        },
        "id": "f_p44g87VlAe",
        "outputId": "12653b49-a997-4de6-c803-d0c5c68c8d52"
      },
      "execution_count": 78,
      "outputs": [
        {
          "output_type": "stream",
          "name": "stdout",
          "text": [
            "Hll, Wrld!\n"
          ]
        }
      ]
    },
    {
      "cell_type": "code",
      "source": [],
      "metadata": {
        "id": "Y2N8CL9PYgw5"
      },
      "execution_count": null,
      "outputs": []
    },
    {
      "cell_type": "code",
      "source": [
        "#Q11.Sample order list: [order_number, price_per_item, quantity]\n",
        "# Input data\n",
        "orders = [\n",
        "    [34587, \"Learning Python, Mark Lutz\", 4, 40.95],\n",
        "    [98762, \"Programming Python, Mark Lutz\", 5, 56.80],\n",
        "    [77226, \"Head First Python, Paul Barry\", 3, 32.95],\n",
        "    [88112, \"Einführung in Python3, Bernd Klein\", 3, 24.99]\n",
        "]\n",
        "\n",
        "def calculate_total(order):\n",
        "    order_number = order[0]\n",
        "    quantity = order[2]\n",
        "    price_per = order[3]\n",
        "\n",
        "    total_cost = quantity * price_per\n",
        "    if total_cost < 100:\n",
        "        total_cost += 10  # Add 10€ if total cost is less than 100\n",
        "\n",
        "    return (order_number, total_cost)\n",
        "\n",
        "result = list(map(lambda order: calculate_total(order), orders))\n",
        "\n",
        "print(result)\n",
        "\n"
      ],
      "metadata": {
        "colab": {
          "base_uri": "https://localhost:8080/"
        },
        "id": "pbLup8MJYyaL",
        "outputId": "af602271-a2fc-4158-e15a-3de79a4f3b94"
      },
      "execution_count": 83,
      "outputs": [
        {
          "output_type": "stream",
          "name": "stdout",
          "text": [
            "[(34587, 163.8), (98762, 284.0), (77226, 108.85000000000001), (88112, 84.97)]\n"
          ]
        }
      ]
    }
  ]
}